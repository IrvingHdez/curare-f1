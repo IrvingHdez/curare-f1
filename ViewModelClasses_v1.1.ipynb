{
 "cells": [
  {
   "cell_type": "markdown",
   "metadata": {},
   "source": [
    "# DEMO: Stackoverflow dump"
   ]
  },
  {
   "cell_type": "markdown",
   "metadata": {},
   "source": [
    "## CURARE view model"
   ]
  },
  {
   "cell_type": "code",
   "execution_count": 2,
   "metadata": {},
   "outputs": [],
   "source": [
    "%matplotlib inline\n",
    "import os \n",
    "from pyspark import SparkContext\n",
    "from pyspark.mllib.stat import Statistics\n",
    "import numpy as np\n",
    "from matplotlib import pyplot as plt \n",
    "import datetime as dt\n",
    "import statistics\n",
    "from scipy import stats\n",
    "import nltk\n",
    "import ipywidgets as widgets\n",
    "import pandas\n",
    "from collections import Counter\n",
    "from numpy import NaN"
   ]
  },
  {
   "cell_type": "markdown",
   "metadata": {},
   "source": [
    "### View Class"
   ]
  },
  {
   "cell_type": "code",
   "execution_count": 3,
   "metadata": {},
   "outputs": [
    {
     "name": "stdout",
     "output_type": "stream",
     "text": [
      "Success class created!\n"
     ]
    }
   ],
   "source": [
    "class View:\n",
    "    _id = \"\" # url\n",
    "    name = \"\"\n",
    "    provider = \"\"\n",
    "    author = \"\"\n",
    "    description = \"\"        \n",
    "    code = \"\"\n",
    "    rules = \"\"\n",
    "    source = \"\"    \n",
    "    releaseViewList = []\n",
    " \n",
    "    def __init__(self, _id, name, provider, author, description, code, rules, source, releaseViewList):\n",
    "        self._id = _id\n",
    "        self.name = name\n",
    "        self.provider = provider\n",
    "        self.author = author\n",
    "        self.description = description\n",
    "        self.code = code\n",
    "        self.rules = rules\n",
    "        self.source = source\n",
    "        self.releaseViewList = releaseViewList\n",
    " \n",
    "    def printInfo(self):\n",
    "        print (\"_id = \" + str(self._id))\n",
    "        print (\"name = \" + str(self.name))\n",
    "        print (\"provider = \" + str(self.provider))\n",
    "        print (\"author = \" + str(self.author))\n",
    "        print (\"description = \" + str(self.description))\n",
    "        print (\"code = \" + str(self.code))\n",
    "        print (\"rules = \" + str(self.rules))\n",
    "        print (\"source = \" + str(self.source))\n",
    "        print (\"list of release views = \" + str(self.releaseViewList))    \n",
    "        \n",
    "print (\"Success class created!\")"
   ]
  },
  {
   "cell_type": "markdown",
   "metadata": {},
   "source": [
    "### Release View Class"
   ]
  },
  {
   "cell_type": "code",
   "execution_count": 4,
   "metadata": {},
   "outputs": [
    {
     "name": "stdout",
     "output_type": "stream",
     "text": [
      "Success class created!\n"
     ]
    }
   ],
   "source": [
    "class ReleaseView:\n",
    "    _id = \"\" # url\n",
    "    version = 0\n",
    "    publicationDate = \"\"\n",
    "    size = 0\n",
    "    licence = \"\"                \n",
    " \n",
    "    def __init__(self, _id, version, publicationDate, size, license, attributeDescList):\n",
    "        self._id = _id\n",
    "        self.version = version\n",
    "        self.publicationDate = publicationDate\n",
    "        self.size = size\n",
    "        self.license = license        \n",
    "        self.attributeDescList = attributeDescList        \n",
    " \n",
    "    def printInfo(self):\n",
    "        print (\"_id  = \" + str(self._id))\n",
    "        print (\"name  = \" + str(self.name))\n",
    "        print (\"provider  = \" + str(self.provider))\n",
    "        print (\"author  = \" + str(self.author))\n",
    "        print (\"description  = \" + str(self.description))\n",
    "        print (\"code  = \" + str(self.code))\n",
    "        print (\"rules  = \" + str(self.rules))\n",
    "        print (\"source  = \" + str(self.source))\n",
    "        print (\"default  = \" + str(self.default))\n",
    "        print (\"list of release views = \" + str(self.releaseViewList)) \n",
    "        \n",
    "print (\"Success class created!\")"
   ]
  },
  {
   "cell_type": "markdown",
   "metadata": {},
   "source": [
    "### Attribute Descriptor Class"
   ]
  },
  {
   "cell_type": "code",
   "execution_count": 5,
   "metadata": {},
   "outputs": [
    {
     "name": "stdout",
     "output_type": "stream",
     "text": [
      "Success class created!\n"
     ]
    }
   ],
   "source": [
    "# One instance per item\n",
    "class AttributeDescriptor:\n",
    "    _id = \"\" # should be the same as the one in data collection model. Created by mongo\n",
    "    name = \"\" # name of the item\n",
    "    _type = [] # maybe take from data collection model\n",
    "    valueDistribution = [] # Histogram\n",
    "    nullValue = 0               \n",
    "    absentValue = 0 \n",
    "    minValue = []\n",
    "    maxValue = []\n",
    "    mean = []\n",
    "    median = []\n",
    "    mode = []\n",
    "    count = 0\n",
    " \n",
    "    def __init__(self, _id, name, _type, valueDistribution, nullValue, absentValue, minValue, maxValue, mean, median, mode, count):\n",
    "        self._id = _id\n",
    "        self.name = name\n",
    "        self._type = _type\n",
    "        self.valueDistribution = valueDistribution\n",
    "        self.nullValue = nullValue\n",
    "        self.absentValue = absentValue\n",
    "        self.minValue = minValue\n",
    "        self.maxValue = maxValue\n",
    "        self.mean = mean\n",
    "        self.median = median\n",
    "        self.mode = mode\n",
    "        self.count = count\n",
    " \n",
    "    def printInfo(self):\n",
    "        print (\"_id = \" + str(self._id))\n",
    "        print (\"name = \" + str(self.name))\n",
    "        print (\"_type = \" + str(self._type))\n",
    "        print (\"valueDistribution = \" + str(self.valueDistribution))\n",
    "        print (\"nullValue = \" + str(self.nullValue))\n",
    "        print (\"absentValue = \" + str(self.absentValue))\n",
    "        print (\"minValue = \" + str(self.minValue))\n",
    "        print (\"maxValue = \" + str(self.maxValue))\n",
    "        print (\"mean = \" + str(self.mean))\n",
    "        print (\"median = \" + str(self.median))\n",
    "        print (\"mode = \" + str(self.mode)) \n",
    "        print (\"count = \" + str(self.count)) \n",
    "        \n",
    "print (\"Success class created!\")"
   ]
  },
  {
   "cell_type": "markdown",
   "metadata": {},
   "source": [
    "### Unarchiving"
   ]
  },
  {
   "cell_type": "code",
   "execution_count": 6,
   "metadata": {},
   "outputs": [],
   "source": [
    "import urllib.request\n",
    "import shutil\n",
    "from os import listdir\n",
    "import zipfile\n",
    "\n",
    "def dwnldUrl (_url, folder_name, file_name):            \n",
    "    \n",
    "    file_name = '/tmp/' + file_name # file will be downloaded in this location\n",
    "    # Download the file from 'url' and save it locally under 'file_name':\n",
    "    with urllib.request.urlopen(_url) as response, open(file_name, 'wb') as out_file:\n",
    "        shutil.copyfileobj(response, out_file)            \n",
    "    \n",
    "    # Unarchive data\n",
    "    zip_ref = zipfile.ZipFile(file_name, 'r')\n",
    "    zip_ref.extractall('/tmp/' + folder_name) # creates folder f1db_csv if it doesn't exist\n",
    "    zip_ref.close()\n",
    "\n",
    "    listFilePath = []\n",
    "    \n",
    "    for f in os.listdir('/tmp/' + folder_name):     \n",
    "        listFilePath.append('/tmp/' + folder_name + f)\n",
    "    \n",
    "    return listFilePath\n",
    "\n",
    "def getLocalFiles(_path):    \n",
    "    for f in os.listdir(_path):     \n",
    "        listFilePath.append(_path + f)\n",
    "    \n",
    "    return listFilePath"
   ]
  },
  {
   "cell_type": "code",
   "execution_count": 7,
   "metadata": {},
   "outputs": [
    {
     "data": {
      "application/vnd.jupyter.widget-view+json": {
       "model_id": "8169ec7697d24540aede7e92bda5d894",
       "version_major": 2,
       "version_minor": 0
      },
      "text/plain": [
       "Select(description='Source:', index=1, options=('Download from URL', 'Local Files'), rows=3, value='Local File…"
      ]
     },
     "metadata": {},
     "output_type": "display_data"
    }
   ],
   "source": [
    "selSource = widgets.Select(\n",
    "    options=['Download from URL', 'Local Files'],\n",
    "    value='Local Files',\n",
    "    rows=3,\n",
    "    description='Source:',\n",
    "    disabled=False\n",
    ")\n",
    "selSource"
   ]
  },
  {
   "cell_type": "code",
   "execution_count": 8,
   "metadata": {},
   "outputs": [
    {
     "name": "stdout",
     "output_type": "stream",
     "text": [
      "/test/stackexchange/release_09-10-18/csv/Badges - Copy.csv\n"
     ]
    }
   ],
   "source": [
    "listFilePath = []\n",
    "if selSource.value == 'Local Files':\n",
    "    listFilePath = getLocalFiles(\"/test/stackexchange/release_09-10-18/csv/\")\n",
    "    for f in listFilePath:     \n",
    "        print (f)    \n",
    "    \n",
    "elif selSource.value == 'Download from URL':\n",
    "    listFilePath = dwnldUrl(\"http://ergast.com/downloads/f1db_csv.zip\", \"f1/\", \"f1db_csv.zip\")\n",
    "    for f in listFilePath:     \n",
    "        print (f)\n",
    "\n",
    "else:\n",
    "    print ('any')"
   ]
  },
  {
   "cell_type": "markdown",
   "metadata": {},
   "source": [
    "### Functions to retrive attribute values"
   ]
  },
  {
   "cell_type": "markdown",
   "metadata": {},
   "source": [
    "#### Get type"
   ]
  },
  {
   "cell_type": "code",
   "execution_count": 9,
   "metadata": {},
   "outputs": [],
   "source": [
    "def getType (filePath):            \n",
    "        \n",
    "    df = sqlContext.read.format('com.databricks.spark.csv').options(header='true', inferschema='true').load(filePath) \n",
    "    return df.dtypes # list N-tuple <attribute, data type>\n",
    "\n",
    "#getType(\"/test/stackexchange/release_09-10-18/csv/Badges.csv\")"
   ]
  },
  {
   "cell_type": "markdown",
   "metadata": {},
   "source": [
    "#### Get histogram"
   ]
  },
  {
   "cell_type": "code",
   "execution_count": 10,
   "metadata": {},
   "outputs": [],
   "source": [
    "def getHist (filePath):            \n",
    "        \n",
    "    histList = []\n",
    "\n",
    "    df = sqlContext.read.format('com.databricks.spark.csv').options(header='true', inferschema='true').load(filePath) \n",
    "    \n",
    "    for x in range(0,len(df.columns)):  \n",
    "\n",
    "        column_sel = df.select((df.columns[x])).collect()\n",
    "        column_name = df.dtypes[x][0]\n",
    "        column_type = df.dtypes[x][1]\n",
    "        column_array = np.array(column_sel)                                    \n",
    "        \n",
    "        if column_type == \"int\" or column_type == \"timestamp\":# and column_type != \"float\" and column_type is not dt.datetime:             \n",
    "            \n",
    "            # Replace None values for '0' to avoid error\n",
    "            for n, i in enumerate(column_array):\n",
    "                if i == None:\n",
    "                    column_array[n] = 0\n",
    "                                               \n",
    "            _hist = plt.hist(column_array) \n",
    "            plt.xlabel(column_name)\n",
    "            plt.ylabel(\"frequency\")\n",
    "            plt.show() \n",
    "            histList.append(_hist) \n",
    "                                \n",
    "        elif (column_type == \"string\" or column_type == \"boolean\") and column_type is not dt.datetime:  \n",
    "            \n",
    "            dataf = pandas.DataFrame.from_dict(Counter(column_sel), orient='index')\n",
    "            p = dataf.plot(kind='bar', rot=90)\n",
    "            p.set_xlabel(column_name)\n",
    "            p.set_ylabel(\"frequency\")   \n",
    "            plt.show()            \n",
    "            histList.append(dataf) \n",
    "            \n",
    "        else:\n",
    "            histList.append(None)                        \n",
    "        \n",
    "    return histList\n",
    "\n",
    "#getHist(\"/test/stackexchange/release_09-10-18/csv/Badges.csv\")"
   ]
  },
  {
   "cell_type": "markdown",
   "metadata": {},
   "source": [
    "#### Get number of null values"
   ]
  },
  {
   "cell_type": "code",
   "execution_count": 11,
   "metadata": {},
   "outputs": [],
   "source": [
    "def getNull (filePath):            \n",
    "        \n",
    "    nullList = []\n",
    "    \n",
    "    df = sqlContext.read.format('com.databricks.spark.csv').options(header='true', inferschema='true').load(filePath) \n",
    "\n",
    "    for x in range(0,len(df.columns)):   \n",
    "        \n",
    "        column_sel = df.select((df.columns[x])).collect()\n",
    "        column_array = np.array(column_sel)\n",
    "        column_par = sc.parallelize(column_array) # an RDD of arrays                                                   \n",
    "        \n",
    "        nulls = column_par.filter(lambda s: None in s).count() \n",
    "        nullList.append(nulls)        \n",
    "                \n",
    "    return nullList\n",
    "\n",
    "#getNull(\"/test/stackexchange/release_09-10-18/csv/Tags.csv\")"
   ]
  },
  {
   "cell_type": "markdown",
   "metadata": {},
   "source": [
    "#### Get number of absent values"
   ]
  },
  {
   "cell_type": "code",
   "execution_count": 12,
   "metadata": {},
   "outputs": [],
   "source": [
    "def getAbsent (filePath):            \n",
    "        \n",
    "    absentList = []\n",
    "    \n",
    "    df = sqlContext.read.format('com.databricks.spark.csv').options(header='true', inferschema='true').load(filePath) \n",
    "        \n",
    "    for x in range(0,len(df.columns)):   \n",
    "        \n",
    "        column_sel = df.select((df.columns[x])).collect()\n",
    "        column_array = np.array(column_sel)        \n",
    "        column_par = sc.parallelize(column_array) # an RDD of arrays               \n",
    "        \n",
    "        emptys = column_par.filter(lambda s: \"''\" in s).count() \n",
    "        absentList.append(emptys)\n",
    "                \n",
    "    return absentList   \n",
    "\n",
    "#getAbsent(\"/test/stackexchange/release_09-10-18/csv/Tags - Copy.csv\")"
   ]
  },
  {
   "cell_type": "markdown",
   "metadata": {},
   "source": [
    "#### Get min value per column"
   ]
  },
  {
   "cell_type": "code",
   "execution_count": 13,
   "metadata": {},
   "outputs": [],
   "source": [
    "def getMinVal (filePath):                    \n",
    "        \n",
    "    minValList = []    \n",
    "\n",
    "    df = sqlContext.read.format('com.databricks.spark.csv').options(header='true', inferschema='true').load(filePath)       \n",
    "\n",
    "    for x in range(0,len(df.columns)): \n",
    "                      \n",
    "        column_sel = df.select((df.columns[x])).collect()\n",
    "        column_type = df.dtypes[x][1]\n",
    "        column_array = np.array(column_sel)             \n",
    "        \n",
    "        if column_type == \"int\":             \n",
    "                               \n",
    "            column_c = sc.parallelize(column_array) # an RDD of arrays\n",
    "            summary = Statistics.colStats(column_c)  \n",
    "            minValList.append(int(summary.min()[0]))         \n",
    "            \n",
    "        elif column_type == \"boolean\":\n",
    "            for n, i in enumerate(column_array):\n",
    "                if i == False:\n",
    "                    column_array[n] = 0\n",
    "                elif i == True:\n",
    "                    column_array[n] = 1\n",
    "                    \n",
    "            column_c = sc.parallelize(column_array) # an RDD of arrays\n",
    "            summary = Statistics.colStats(column_c)  \n",
    "            minValList.append(int(summary.min()[0])) \n",
    "            \n",
    "        elif (column_type == \"string\" or column_type == \"timestamp\") and column_type is not dt.datetime: \n",
    "                                     \n",
    "            # Convert boolean to string\n",
    "            if column_type == \"timestamp\":                \n",
    "                for n, i in enumerate(column_array):\n",
    "                    item = str(i)\n",
    "                    column_array[n] = item\n",
    "                                                    \n",
    "            wList = []\n",
    "            fnpC = column_array.flatten()            \n",
    "                      \n",
    "            # get string lenght and creates a list\n",
    "            for i in fnpC:\n",
    "                if i is not None:\n",
    "                    wList.append(len(i))\n",
    "                elif i is None:\n",
    "                    wList.append(0)\n",
    "                else:\n",
    "                    wList.append(i)                                                                                                                           \n",
    "                                                                                                                           \n",
    "            minValList.append(min(wList))  \n",
    "            \n",
    "        else:\n",
    "            minValList.append(None)        \n",
    "        \n",
    "    return minValList\n",
    "\n",
    "#getMinVal(\"/test/stackexchange/release_09-10-18/csv/Badges - Copy.csv\")"
   ]
  },
  {
   "cell_type": "markdown",
   "metadata": {},
   "source": [
    "#### Get max value per column"
   ]
  },
  {
   "cell_type": "code",
   "execution_count": 14,
   "metadata": {},
   "outputs": [],
   "source": [
    "def getMaxVal (filePath):                    \n",
    "        \n",
    "    maxValList = []\n",
    "\n",
    "    df = sqlContext.read.format('com.databricks.spark.csv').options(header='true', inferschema='true').load(filePath)       \n",
    "\n",
    "    for x in range(0,len(df.columns)): \n",
    "                      \n",
    "        column_sel = df.select((df.columns[x])).collect()\n",
    "        column_type = df.dtypes[x][1]\n",
    "        column_array = np.array(column_sel)             \n",
    "        \n",
    "        if column_type == \"int\":             \n",
    "                               \n",
    "            column_c = sc.parallelize(column_array) # an RDD of arrays\n",
    "            summary = Statistics.colStats(column_c)  \n",
    "            maxValList.append(int(summary.max()[0]))         \n",
    "            \n",
    "        elif column_type == \"boolean\":\n",
    "            for n, i in enumerate(column_array):\n",
    "                if i == False:\n",
    "                    column_array[n] = 0\n",
    "                elif i == True:\n",
    "                    column_array[n] = 1\n",
    "                    \n",
    "            column_c = sc.parallelize(column_array) # an RDD of arrays\n",
    "            summary = Statistics.colStats(column_c)  \n",
    "            maxValList.append(int(summary.max()[0])) \n",
    "            \n",
    "        elif (column_type == \"string\" or column_type == \"timestamp\") and column_type is not dt.datetime: \n",
    "                                     \n",
    "            # Convert boolean to string\n",
    "            if column_type == \"timestamp\":                \n",
    "                for n, i in enumerate(column_array):\n",
    "                    item = str(i)\n",
    "                    print (item)\n",
    "                    column_array[n] = item\n",
    "                                                    \n",
    "            wList = []\n",
    "            fnpC = column_array.flatten()            \n",
    "                      \n",
    "            # get string lenght and creates a list\n",
    "            for i in fnpC:\n",
    "                if i is not None:\n",
    "                    wList.append(len(i))\n",
    "                elif i is None:\n",
    "                    wList.append(0)\n",
    "                else:\n",
    "                    wList.append(i)                                                                                                                           \n",
    "                                                                                                                           \n",
    "            maxValList.append(max(wList))  \n",
    "            \n",
    "        else:\n",
    "            maxValList.append(None)        \n",
    "        \n",
    "    return maxValList\n",
    "\n",
    "#getMaxVal(\"/test/stackexchange/release_09-10-18/csv/Badges - Copy.csv\")"
   ]
  },
  {
   "cell_type": "markdown",
   "metadata": {},
   "source": [
    "#### Get mean value per column"
   ]
  },
  {
   "cell_type": "code",
   "execution_count": 15,
   "metadata": {},
   "outputs": [],
   "source": [
    "def getMeanVal (filePath):                    \n",
    "        \n",
    "    meanValList = []\n",
    "\n",
    "    df = sqlContext.read.format('com.databricks.spark.csv').options(header='true', inferschema='true').load(filePath)       \n",
    "\n",
    "    for x in range(0,len(df.columns)): \n",
    "                      \n",
    "        column_sel = df.select((df.columns[x])).collect()\n",
    "        column_type = df.dtypes[x][1]\n",
    "        column_array = np.array(column_sel)             \n",
    "        \n",
    "        if column_type == \"int\":             \n",
    "                               \n",
    "            column_c = sc.parallelize(column_array) # an RDD of arrays\n",
    "            summary = Statistics.colStats(column_c)  \n",
    "            meanValList.append(int(summary.mean()[0]))         \n",
    "            \n",
    "        elif column_type == \"boolean\":\n",
    "            for n, i in enumerate(column_array):\n",
    "                if i == False:\n",
    "                    column_array[n] = 0\n",
    "                elif i == True:\n",
    "                    column_array[n] = 1\n",
    "                    \n",
    "            column_c = sc.parallelize(column_array) # an RDD of arrays\n",
    "            summary = Statistics.colStats(column_c)  \n",
    "            meanValList.append(int(summary.mean()[0])) \n",
    "            \n",
    "        elif (column_type == \"string\" or column_type == \"timestamp\") and column_type is not dt.datetime: \n",
    "                                     \n",
    "            # Convert boolean to string\n",
    "            if column_type == \"timestamp\":                \n",
    "                for n, i in enumerate(column_array):\n",
    "                    item = str(i)\n",
    "                    print (item)\n",
    "                    column_array[n] = item\n",
    "                                                    \n",
    "            wList = []\n",
    "            fnpC = column_array.flatten()            \n",
    "                      \n",
    "            # get string lenght and creates a list\n",
    "            sumL = 0\n",
    "            for i in fnpC:\n",
    "                if i is not None:\n",
    "                    wList.append(len(i))\n",
    "                    sumL = sumL + len(i)\n",
    "                elif i is None:\n",
    "                    wList.append(0)\n",
    "                else:\n",
    "                    wList.append(i)                     \n",
    "                                                                                                                           \n",
    "            meanValList.append(sumL/len(wList))  \n",
    "            \n",
    "        else:\n",
    "            meanValList.append(None)        \n",
    "        \n",
    "    return meanValList\n",
    "\n",
    "    #getMeanVal(\"/test/stackexchange/release_09-10-18/csv/Badges - Copy.csv\")"
   ]
  },
  {
   "cell_type": "markdown",
   "metadata": {},
   "source": [
    "#### Get median value per column"
   ]
  },
  {
   "cell_type": "code",
   "execution_count": 16,
   "metadata": {},
   "outputs": [],
   "source": [
    "def getMedianVal (filePath):                    \n",
    "        \n",
    "    medianValList = []\n",
    "    \n",
    "    df = sqlContext.read.format('com.databricks.spark.csv').options(header='true', inferschema='true').load(filePath)       \n",
    "\n",
    "    for x in range(0,len(df.columns)): \n",
    "                      \n",
    "        column_sel = df.select((df.columns[x])).collect()\n",
    "        column_type = df.dtypes[x][1]\n",
    "        column_array = np.array(column_sel)             \n",
    "        \n",
    "        if column_type == \"int\":             \n",
    "                               \n",
    "            m = int(statistics.median(column_array)[0])\n",
    "            medianValList.append(m)\n",
    "            \n",
    "        elif column_type == \"boolean\":\n",
    "            for n, i in enumerate(column_array):\n",
    "                if i == False:\n",
    "                    column_array[n] = 0\n",
    "                elif i == True:\n",
    "                    column_array[n] = 1\n",
    "                                \n",
    "            m = int(statistics.median(column_array)[0])\n",
    "            medianValList.append(m)\n",
    "            \n",
    "        elif (column_type == \"string\" or column_type == \"timestamp\") and column_type is not dt.datetime: \n",
    "                                     \n",
    "            # Convert boolean to string\n",
    "            if column_type == \"timestamp\":                \n",
    "                for n, i in enumerate(column_array):\n",
    "                    item = str(i)\n",
    "                    column_array[n] = item\n",
    "                column_array = np.array(column_array, dtype=str)\n",
    "                        \n",
    "            wList = []\n",
    "            fnpC = column_array.flatten()            \n",
    "                      \n",
    "            # get string lenght and creates a list\n",
    "            for i in fnpC:\n",
    "                if i is not None:\n",
    "                    wList.append(len(i))\n",
    "                elif i is None:\n",
    "                    wList.append(0)                                                                                                                                                \n",
    "\n",
    "            m = int(statistics.median(wList))\n",
    "            medianValList.append(m)\n",
    "            \n",
    "        else:\n",
    "            medianValList.append(None)        \n",
    "        \n",
    "    return medianValList\n",
    "\n",
    "#getMedianVal(\"/test/stackexchange/release_09-10-18/csv/Badges - Copy.csv\")"
   ]
  },
  {
   "cell_type": "markdown",
   "metadata": {},
   "source": [
    "#### Get mode value per column"
   ]
  },
  {
   "cell_type": "code",
   "execution_count": 17,
   "metadata": {},
   "outputs": [],
   "source": [
    "def getModeVal (filePath):                    \n",
    "        \n",
    "    modeValList = []\n",
    "\n",
    "    df = sqlContext.read.format('com.databricks.spark.csv').options(header='true', inferschema='true').load(filePath)   \n",
    "\n",
    "    for x in range(0,len(df.columns)):                 \n",
    "        \n",
    "        column_sel = df.select((df.columns[x])).collect()\n",
    "        column_type = df.dtypes[x][1]\n",
    "        column_array = np.array(column_sel)             \n",
    "        \n",
    "        if column_type == \"int\":                                                                                \n",
    "            m = int(stats.mode(column_array)[0][0][0])            \n",
    "            modeValList.append(m)\n",
    "            \n",
    "        elif column_type == \"boolean\":\n",
    "            for n, i in enumerate(column_array):\n",
    "                if i == False:\n",
    "                    column_array[n] = 0\n",
    "                elif i == True:\n",
    "                    column_array[n] = 1                                \n",
    "            \n",
    "            m = int(stats.mode(column_array)[0][0][0])            \n",
    "            modeValList.append(m)\n",
    "            \n",
    "        elif (column_type == \"string\" or column_type == \"timestamp\") and column_type is not dt.datetime: \n",
    "                                     \n",
    "            # Convert datetime to string\n",
    "            if column_type == \"timestamp\":                \n",
    "                for n, i in enumerate(column_array):\n",
    "                    item = str(i)\n",
    "                    column_array[n] = item\n",
    "                column_array = np.array(column_array, dtype=str)\n",
    "                \n",
    "            fnpC = column_array.flatten()                                                          \n",
    "            modeValList.append(nltk.FreqDist(fnpC).most_common(1)[0][0])                        \n",
    "            \n",
    "        else:\n",
    "            modeValList.append(None)                    \n",
    "        \n",
    "    return modeValList\n",
    "\n",
    "#getModeVal(\"/test/stackexchange/release_09-10-18/csv/Badges - Copy.csv\")"
   ]
  },
  {
   "cell_type": "markdown",
   "metadata": {},
   "source": [
    "#### Get count per column"
   ]
  },
  {
   "cell_type": "code",
   "execution_count": 18,
   "metadata": {},
   "outputs": [],
   "source": [
    "def getCount (filePath):                    \n",
    "        \n",
    "    countList = []\n",
    "    df = sqlContext.read.format('com.databricks.spark.csv').options(header='true', inferschema='true').load(filePath)                                                   \n",
    "    \n",
    "    return df.count()    \n",
    "\n",
    "#getCount (\"/test/stackexchange/release_09-10-18/csv/Badges - Copy.csv\")"
   ]
  },
  {
   "cell_type": "markdown",
   "metadata": {},
   "source": [
    "#### Create AttributeDescriptor objects"
   ]
  },
  {
   "cell_type": "code",
   "execution_count": 19,
   "metadata": {},
   "outputs": [
    {
     "data": {
      "image/png": "[encoded data removed]",
      "text/plain": [
       "<Figure size 432x288 with 1 Axes>"
      ]
     },
     "metadata": {},
     "output_type": "display_data"
    },
    {
     "data": {
      "image/png": "[encoded data removed]",
      "text/plain": [
       "<Figure size 432x288 with 1 Axes>"
      ]
     },
     "metadata": {},
     "output_type": "display_data"
    },
    {
     "data": {
      "image/png": "[encoded data removed]",
      "text/plain": [
       "<Figure size 432x288 with 1 Axes>"
      ]
     },
     "metadata": {},
     "output_type": "display_data"
    },
    {
     "data": {
      "image/png": "[encoded data removed]",
      "text/plain": [
       "<Figure size 432x288 with 1 Axes>"
      ]
     },
     "metadata": {},
     "output_type": "display_data"
    },
    {
     "data": {
      "image/png": "[encoded data removed]",
      "text/plain": [
       "<Figure size 432x288 with 1 Axes>"
      ]
     },
     "metadata": {},
     "output_type": "display_data"
    },
    {
     "data": {
      "image/png": "[encoded data removed]",
      "text/plain": [
       "<Figure size 432x288 with 1 Axes>"
      ]
     },
     "metadata": {},
     "output_type": "display_data"
    },
    {
     "name": "stdout",
     "output_type": "stream",
     "text": [
      "[datetime.datetime(2010, 7, 19, 19, 39, 7, 47000)]\n",
      "[datetime.datetime(2010, 7, 19, 19, 39, 7, 220000)]\n",
      "[datetime.datetime(2010, 7, 19, 19, 39, 7, 330000)]\n",
      "[datetime.datetime(2010, 7, 19, 19, 39, 7, 437000)]\n",
      "[datetime.datetime(2010, 7, 19, 19, 39, 7, 593000)]\n",
      "[datetime.datetime(2010, 7, 19, 19, 39, 7, 687000)]\n",
      "[datetime.datetime(2010, 7, 19, 19, 39, 7, 720000)]\n",
      "[datetime.datetime(2010, 7, 19, 19, 39, 7, 780000)]\n",
      "[datetime.datetime(2010, 7, 19, 19, 39, 7, 890000)]\n",
      "[datetime.datetime(2010, 7, 19, 19, 39, 7, 937000)]\n",
      "[datetime.datetime(2010, 7, 19, 19, 39, 7, 780000)]\n",
      "[datetime.datetime(2010, 7, 19, 19, 39, 7, 47000)]\n",
      "[datetime.datetime(2010, 7, 19, 19, 39, 7, 220000)]\n",
      "[datetime.datetime(2010, 7, 19, 19, 39, 7, 330000)]\n",
      "[datetime.datetime(2010, 7, 19, 19, 39, 7, 437000)]\n",
      "[datetime.datetime(2010, 7, 19, 19, 39, 7, 593000)]\n",
      "[datetime.datetime(2010, 7, 19, 19, 39, 7, 687000)]\n",
      "[datetime.datetime(2010, 7, 19, 19, 39, 7, 720000)]\n",
      "[datetime.datetime(2010, 7, 19, 19, 39, 7, 780000)]\n",
      "[datetime.datetime(2010, 7, 19, 19, 39, 7, 890000)]\n",
      "[datetime.datetime(2010, 7, 19, 19, 39, 7, 937000)]\n",
      "[datetime.datetime(2010, 7, 19, 19, 39, 7, 780000)]\n",
      "_id = http://hdr.undp.org/en/indicators/137506#\n",
      "name = /test/stackexchange/release_09-10-18/csv/Badges - Copy.csv\n",
      "_type = [('_Id', 'int'), ('_UserId', 'int'), ('_Name', 'string'), ('_Date', 'timestamp'), ('_Class', 'int'), ('_TagBased', 'boolean')]\n",
      "valueDistribution = [(array([1., 1., 1., 1., 1., 1., 1., 2., 1., 1.]), array([ 1. ,  1.9,  2.8,  3.7,  4.6,  5.5,  6.4,  7.3,  8.2,  9.1, 10. ]), <a list of 10 Patch objects>), (array([5., 0., 0., 1., 0., 0., 2., 0., 0., 3.]), array([ 5., 10., 15., 20., 25., 30., 35., 40., 45., 50., 55.]), <a list of 10 Patch objects>),             0\n",
      "(Tea,)      4\n",
      "(Teacher,)  5\n",
      "(Stu,)      1\n",
      "(Student,)  1, (array([1., 1., 0., 1., 1., 0., 1., 2., 2., 2.]), array([733972.81883156, 733972.81883259, 733972.81883362, 733972.81883465,\n",
      "       733972.81883568, 733972.81883671, 733972.81883774, 733972.81883877,\n",
      "       733972.8188398 , 733972.81884083, 733972.81884186]), <a list of 10 Patch objects>), (array([ 1.,  0.,  0.,  0.,  0.,  0.,  0.,  0.,  0., 10.]), array([1. , 1.2, 1.4, 1.6, 1.8, 2. , 2.2, 2.4, 2.6, 2.8, 3. ]), <a list of 10 Patch objects>),            0\n",
      "(False,)  10\n",
      "(True,)    1]\n",
      "nullValue = [0, 0, 0, 0, 0, 0]\n",
      "absentValue = [0, 0, 0, 0, 0, 0]\n",
      "minValue = [1, 5, 3, 50, 1, 0]\n",
      "maxValue = [10, 55, 7, 51, 3, 1]\n",
      "mean = [5, 26, 5.181818181818182, 50.90909090909091, 2, 0]\n",
      "median = [6, 23, 7, 51, 3, 0]\n",
      "mode = [8, 5, 'Teacher', '[datetime.datetime(2010, 7, 19, 19, 39, 7, 780000)]', 3, 0]\n",
      "count = 11\n"
     ]
    }
   ],
   "source": [
    "from matplotlib import pyplot as plt \n",
    "attributesList = []\n",
    "index = 0\n",
    "\n",
    "for f in listFilePath:  \n",
    "    fullPath = f \n",
    "                                    # _id, name, _type, valueDistribution, nullValue, absentValue, \n",
    "                                    # minValue, maxValue, mean, median, mode, count):\n",
    "    attributes = AttributeDescriptor('http://hdr.undp.org/en/indicators/137506#', f, getType(fullPath), getHist(fullPath), getNull(fullPath), \n",
    "                                     getAbsent(fullPath), getMinVal(fullPath), getMaxVal(fullPath), \n",
    "                                     getMeanVal(fullPath), getMedianVal(fullPath), getModeVal(fullPath), getCount(fullPath))    \n",
    "    attributesList.append(attributes)\n",
    "    attributesList[index].printInfo()\n",
    "    del attributes\n",
    "    index+=1      "
   ]
  },
  {
   "cell_type": "markdown",
   "metadata": {},
   "source": [
    "#### Create Release View Object"
   ]
  },
  {
   "cell_type": "code",
   "execution_count": 20,
   "metadata": {},
   "outputs": [],
   "source": [
    "releaseViewList = []\n",
    "\n",
    "url=\"https://archive.org/download/stackexchange/stats.stackexchange.com.7z\"\n",
    "conn = urllib.request.urlopen(url, timeout=30)\n",
    "last_modified = conn.headers['last-modified']\n",
    "publicationDate = last_modified\n",
    "                          #_id, version, publicationDate, size, license, attributeDescList \n",
    "releaseViewList.append(ReleaseView(url, publicationDate, None, None, None, attributesList))\n"
   ]
  },
  {
   "cell_type": "markdown",
   "metadata": {},
   "source": [
    "#### Create View Object"
   ]
  },
  {
   "cell_type": "code",
   "execution_count": 21,
   "metadata": {},
   "outputs": [
    {
     "name": "stdout",
     "output_type": "stream",
     "text": [
      "_id = https://archive.org/download/stackexchange/stats.stackexchange.com.7z\n",
      "name = None\n",
      "provider = None\n",
      "author = None\n",
      "description = None\n",
      "code = None\n",
      "rules = None\n",
      "source = None\n",
      "list of release views = [<__main__.ReleaseView object at 0x7f1f8cfa72e8>]\n"
     ]
    }
   ],
   "source": [
    "            #_id, name, provider, author, description, code, rules, source, releaseViewList\n",
    "view = View(url, None, None, None, None, None, None, None, releaseViewList)\n",
    "view.printInfo()"
   ]
  },
  {
   "cell_type": "markdown",
   "metadata": {},
   "source": [
    "### Serialize view objet to JSON"
   ]
  },
  {
   "cell_type": "code",
   "execution_count": 22,
   "metadata": {},
   "outputs": [],
   "source": [
    "import json\n",
    "import jsonpickle\n",
    "\n",
    "viewJson = jsonpickle.encode(view)\n",
    "viewJson = json.loads(viewJson)"
   ]
  },
  {
   "cell_type": "markdown",
   "metadata": {},
   "source": [
    "### Store view file in a MongoDB Atlas Cluster"
   ]
  },
  {
   "cell_type": "code",
   "execution_count": 23,
   "metadata": {
    "scrolled": true
   },
   "outputs": [
    {
     "name": "stdout",
     "output_type": "stream",
     "text": [
      "5bc4ba99d10f1507b39d93b5\n"
     ]
    }
   ],
   "source": [
    "import json\n",
    "from pymongo import MongoClient\n",
    "import gridfs\n",
    "\n",
    "# Creates a client for the primary sandbox from cluster host cluster0-nlbcx.mongodb.net\n",
    "client = MongoClient('cluster0-shard-00-00-nlbcx.mongodb.net:27017',\n",
    "                      username='adminUser',\n",
    "                      password='xpass',\n",
    "                      authSource='admin',                      \n",
    "                      replicaSet='Cluster0-shard-0',\n",
    "                      ssl=True,\n",
    "                      retryWrites=True)\n",
    "\n",
    "db = client.test \n",
    "db = client.test_database\n",
    "db = client['viewModel-db']\n",
    "#collection = db['viewModel-view4']\n",
    "\n",
    "fs = gridfs.GridFS(db, collection = 'viewModel-view6', disable_md5=False)\n",
    "\n",
    "#pid = collection.insert_one(viewJson).inserted_id  # this id can replace the url in datacollectionmodel class\n",
    "did = fs.put(str(viewJson), encoding='utf8')\n",
    "print (did)\n",
    "\n",
    "client.close()"
   ]
  }
 ],
 "metadata": {
  "kernelspec": {
   "display_name": "Python 3",
   "language": "python",
   "name": "python3"
  }
 },
 "nbformat": 4,
 "nbformat_minor": 2
}
