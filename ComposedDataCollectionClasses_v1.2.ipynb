{
 "cells": [
  {
   "cell_type": "markdown",
   "metadata": {},
   "source": [
    "## CURARE data collection model"
   ]
  },
  {
   "cell_type": "markdown",
   "metadata": {},
   "source": [
    "#### Type your dataset's URL or leave default value"
   ]
  },
  {
   "cell_type": "code",
   "execution_count": 1,
   "metadata": {},
   "outputs": [],
   "source": [
    "import ipywidgets as widgets"
   ]
  },
  {
   "cell_type": "code",
   "execution_count": 88,
   "metadata": {},
   "outputs": [
    {
     "data": {
      "application/vnd.jupyter.widget-view+json": {
       "model_id": "aca86b411a0a4842b2c4a1ca60ff0f8d",
       "version_major": 2,
       "version_minor": 0
      },
      "text/plain": [
       "Text(value='http://ergast.com/downloads/f1db_csv.zip', description='Dataset url:')"
      ]
     },
     "metadata": {},
     "output_type": "display_data"
    }
   ],
   "source": [
    "url_tb = widgets.Text(value='http://ergast.com/downloads/f1db_csv.zip', description='Dataset url:', disabled=False); url_tb"
   ]
  },
  {
   "cell_type": "markdown",
   "metadata": {},
   "source": [
    "#### Type additional information about your dataset or leve default values"
   ]
  },
  {
   "cell_type": "code",
   "execution_count": 89,
   "metadata": {},
   "outputs": [
    {
     "data": {
      "application/vnd.jupyter.widget-view+json": {
       "model_id": "5a6b18e308684e8dbfa11502ac04166c",
       "version_major": 2,
       "version_minor": 0
      },
      "text/plain": [
       "Text(value='Ergast Developer API', description='provider:')"
      ]
     },
     "metadata": {},
     "output_type": "display_data"
    }
   ],
   "source": [
    "dbprovider_tb = widgets.Text(value='Ergast Developer API', description='provider:', disabled=False); dbprovider_tb"
   ]
  },
  {
   "cell_type": "code",
   "execution_count": 90,
   "metadata": {},
   "outputs": [
    {
     "data": {
      "application/vnd.jupyter.widget-view+json": {
       "model_id": "7abeb372114a498e82131805e4f7f215",
       "version_major": 2,
       "version_minor": 0
      },
      "text/plain": [
       "Text(value='Creative Commons', description='license:')"
      ]
     },
     "metadata": {},
     "output_type": "display_data"
    }
   ],
   "source": [
    "dblicense_tb = widgets.Text(value='Creative Commons', description='license:', disabled=False); dblicense_tb"
   ]
  },
  {
   "cell_type": "code",
   "execution_count": 91,
   "metadata": {},
   "outputs": [
    {
     "data": {
      "application/vnd.jupyter.widget-view+json": {
       "model_id": "0a9db05b95f44fd4a459942060fee38e",
       "version_major": 2,
       "version_minor": 0
      },
      "text/plain": [
       "Text(value='ergast', description='author:')"
      ]
     },
     "metadata": {},
     "output_type": "display_data"
    }
   ],
   "source": [
    "dbauthor_tb = widgets.Text(value='ergast', description='author:', disabled=False); dbauthor_tb"
   ]
  },
  {
   "cell_type": "code",
   "execution_count": 92,
   "metadata": {},
   "outputs": [
    {
     "data": {
      "application/vnd.jupyter.widget-view+json": {
       "model_id": "c8e7c15f2b734072822a883a9191b3ca",
       "version_major": 2,
       "version_minor": 0
      },
      "text/plain": [
       "Text(value='Data for the Formula One series, from the beginning of the world championships in 1950.', descript…"
      ]
     },
     "metadata": {},
     "output_type": "display_data"
    }
   ],
   "source": [
    "dbdesc_tb = widgets.Text(value='Data for the Formula One series, from the beginning of the world championships in 1950.', \n",
    "                            description='description:', disabled=False); dbdesc_tb"
   ]
  },
  {
   "cell_type": "markdown",
   "metadata": {},
   "source": [
    "## Data Collection Class"
   ]
  },
  {
   "cell_type": "code",
   "execution_count": 93,
   "metadata": {},
   "outputs": [
    {
     "name": "stdout",
     "output_type": "stream",
     "text": [
      "Success class created!\n"
     ]
    }
   ],
   "source": [
    "class DataCollection:\n",
    "    _id = \"\"\n",
    "    name = \"\"\n",
    "    provider = \"\"\n",
    "    licence = \"\"\n",
    "    size = 0\n",
    "    author = \"\"\n",
    "    description = \"\"        \n",
    "    \n",
    "    releaseList = []\n",
    " \n",
    "    def __init__(self, _id, name, provider, licence, size, author, description, releaseList):\n",
    "        self._id = _id\n",
    "        self.name = name\n",
    "        self.provider = provider\n",
    "        self.licence = licence\n",
    "        self.size = size\n",
    "        self.author = author\n",
    "        self.description = \"Add API decription\"\n",
    "        \n",
    "        self.releaseList = releaseList\n",
    " \n",
    "    def printInfo(self):\n",
    "        print (\"_id  = \" + self._id)\n",
    "        print (\"name  = \" + self.name)\n",
    "        print (\"provider  = \" + self.provider)\n",
    "        print (\"licence  = \" + self.licence)\n",
    "        print (\"size = \" + str(self.size) + \" Bytes\")\n",
    "        print (\"author  = \" + self.author)\n",
    "        print (\"description  = \" + self.description)\n",
    "        print (\"list of releases = \" + str(self.releaseList))      \n",
    "        \n",
    "print (\"Success class created!\")"
   ]
  },
  {
   "cell_type": "markdown",
   "metadata": {},
   "source": [
    "## Release Class"
   ]
  },
  {
   "cell_type": "code",
   "execution_count": 94,
   "metadata": {},
   "outputs": [
    {
     "name": "stdout",
     "output_type": "stream",
     "text": [
      "Success class created!\n"
     ]
    }
   ],
   "source": [
    "# Get conditions in which data is produced\n",
    "class Release:\n",
    "    _id = \"\"\n",
    "    releaseNum = 0\n",
    "    publicationDate = \"\"    \n",
    "    \n",
    "    itemList = []\n",
    "    size = 0   # added by me\n",
    "    \n",
    "    def __init__(self, _id, releaseNum, publicationDate, itemList, size):\n",
    "        self._id = _id\n",
    "        self.releaseNum = releaseNum\n",
    "        self.publicationDate = publicationDate        \n",
    "        self.itemList = itemList\n",
    "        self.size = size\n",
    "        \n",
    "    def incRelease(self):\n",
    "        self.releaseNum = self.releaseNum + 1    \n",
    "        \n",
    "    def printInfo(self):\n",
    "        print (\"_id  = \" + self._id)\n",
    "        print (\"releaseNum  = \" + str(self.releaseNum))\n",
    "        print (\"publicationDate  = \" + self.publicationDate)                \n",
    "        print (\"List of items = \" + str(self.itemList))\n",
    "        print (\"size = \" + str(self.size) + \" Bytes\")\n",
    "\n",
    "print (\"Success class created!\")"
   ]
  },
  {
   "cell_type": "markdown",
   "metadata": {},
   "source": [
    "## Item Class"
   ]
  },
  {
   "cell_type": "code",
   "execution_count": 95,
   "metadata": {},
   "outputs": [
    {
     "name": "stdout",
     "output_type": "stream",
     "text": [
      "Success class created!\n"
     ]
    }
   ],
   "source": [
    "class Item:\n",
    "    _id = \"\"\n",
    "    name = \"\"\n",
    "    content = []\n",
    "    \n",
    "    size = 0   # added by me\n",
    " \n",
    "    def __init__(self, _id, name, content, size):\n",
    "        self._id = _id\n",
    "        self.name = name\n",
    "        self.content = content\n",
    "        self.size = size\n",
    "        \n",
    "    def printInfo(self):\n",
    "        print (\"_id  = \" + self._id)\n",
    "        print (\"name  = \" + self.name)\n",
    "        print (\"content  = \" + str(self.content))\n",
    "        print (\"size = \" + str(self.size) + \" Bytes\")\n",
    "\n",
    "print (\"Success class created!\")"
   ]
  },
  {
   "cell_type": "markdown",
   "metadata": {},
   "source": [
    "## Harvest Data from HTTP and Unarchived it"
   ]
  },
  {
   "cell_type": "code",
   "execution_count": 96,
   "metadata": {},
   "outputs": [
    {
     "name": "stdout",
     "output_type": "stream",
     "text": [
      "Data set has been downloaded, the following files were extracted extracted:\n",
      "/tmp/f1db_csv/pit_stops.csv\n",
      "/tmp/f1db_csv/races.csv\n",
      "/tmp/f1db_csv/lap_times.csv\n",
      "/tmp/f1db_csv/constructors.csv\n",
      "/tmp/f1db_csv/constructor_results.csv\n",
      "/tmp/f1db_csv/status.csv\n",
      "/tmp/f1db_csv/driver.csv\n",
      "/tmp/f1db_csv/seasons.csv\n",
      "/tmp/f1db_csv/driver_standings.csv\n",
      "/tmp/f1db_csv/qualifying.csv\n",
      "/tmp/f1db_csv/constructor_standings.csv\n",
      "/tmp/f1db_csv/circuits.csv\n",
      "/tmp/f1db_csv/results.csv\n"
     ]
    }
   ],
   "source": [
    "import urllib.request\n",
    "import shutil\n",
    "from os import listdir\n",
    "import zipfile\n",
    "\n",
    "#url = \"http://ergast.com/downloads/f1db_csv.zip\"\n",
    "url = url_tb.value\n",
    "tempPath = '/tmp/'\n",
    "file_name = tempPath + \"f1db_csv.zip\"\n",
    "dataFolder = \"f1db_csv/\"\n",
    "\n",
    "# Download the file from 'url' and save it locally under 'file_name':\n",
    "with urllib.request.urlopen(url) as response, open(file_name, 'wb') as out_file:\n",
    "    shutil.copyfileobj(response, out_file)        \n",
    "\n",
    "# Unarchive data\n",
    "zip_ref = zipfile.ZipFile(file_name, 'r')\n",
    "zip_ref.extractall(tempPath + dataFolder) # creates folder f1db_csv if it doesn't exist\n",
    "zip_ref.close()\n",
    "\n",
    "listFilePath = os.listdir(tempPath + dataFolder)\n",
    "\n",
    "print (\"Data set has been downloaded, the following files were extracted extracted:\")\n",
    "\n",
    "for f in listFilePath:  \n",
    "    fullPath = tempPath + dataFolder + f\n",
    "    print (fullPath)"
   ]
  },
  {
   "cell_type": "markdown",
   "metadata": {},
   "source": [
    "### Create item objects and append them to a list"
   ]
  },
  {
   "cell_type": "code",
   "execution_count": 97,
   "metadata": {},
   "outputs": [
    {
     "name": "stdout",
     "output_type": "stream",
     "text": [
      "_id  = http://ergast.com/downloads/f1db_csv.zip\n",
      "name  = pit_stops.csv\n",
      "content  = [('_c0', 'int'), ('_c1', 'int'), ('_c2', 'int'), ('_c3', 'int'), ('_c4', 'string'), ('_c5', 'string'), ('_c6', 'int')]\n",
      "size = 254006 Bytes\n",
      "\n",
      "_id  = http://ergast.com/downloads/f1db_csv.zip\n",
      "name  = races.csv\n",
      "content  = [('_c0', 'int'), ('_c1', 'int'), ('_c2', 'int'), ('_c3', 'int'), ('_c4', 'string'), ('_c5', 'timestamp'), ('_c6', 'string'), ('_c7', 'string')]\n",
      "size = 109577 Bytes\n",
      "\n",
      "_id  = http://ergast.com/downloads/f1db_csv.zip\n",
      "name  = lap_times.csv\n",
      "content  = [('_c0', 'int'), ('_c1', 'int'), ('_c2', 'int'), ('_c3', 'int'), ('_c4', 'string'), ('_c5', 'int')]\n",
      "size = 12993131 Bytes\n",
      "\n",
      "_id  = http://ergast.com/downloads/f1db_csv.zip\n",
      "name  = constructors.csv\n",
      "content  = [('_c0', 'int'), ('_c1', 'string'), ('_c2', 'string'), ('_c3', 'string'), ('_c4', 'string')]\n",
      "size = 17021 Bytes\n",
      "\n",
      "_id  = http://ergast.com/downloads/f1db_csv.zip\n",
      "name  = constructor_results.csv\n",
      "content  = [('_c0', 'int'), ('_c1', 'int'), ('_c2', 'int'), ('_c3', 'double'), ('_c4', 'string')]\n",
      "size = 193273 Bytes\n",
      "\n",
      "_id  = http://ergast.com/downloads/f1db_csv.zip\n",
      "name  = status.csv\n",
      "content  = [('_c0', 'int'), ('_c1', 'string')]\n",
      "size = 2043 Bytes\n",
      "\n",
      "_id  = http://ergast.com/downloads/f1db_csv.zip\n",
      "name  = driver.csv\n",
      "content  = [('_c0', 'int'), ('_c1', 'string'), ('_c2', 'string'), ('_c3', 'string'), ('_c4', 'string'), ('_c5', 'string'), ('_c6', 'string'), ('_c7', 'string'), ('_c8', 'string')]\n",
      "size = 92286 Bytes\n",
      "\n",
      "_id  = http://ergast.com/downloads/f1db_csv.zip\n",
      "name  = seasons.csv\n",
      "content  = [('_c0', 'int'), ('_c1', 'string')]\n",
      "size = 4158 Bytes\n",
      "\n",
      "_id  = http://ergast.com/downloads/f1db_csv.zip\n",
      "name  = driver_standings.csv\n",
      "content  = [('_c0', 'int'), ('_c1', 'int'), ('_c2', 'int'), ('_c3', 'double'), ('_c4', 'int'), ('_c5', 'string'), ('_c6', 'int')]\n",
      "size = 806998 Bytes\n",
      "\n",
      "_id  = http://ergast.com/downloads/f1db_csv.zip\n",
      "name  = qualifying.csv\n",
      "content  = [('_c0', 'int'), ('_c1', 'int'), ('_c2', 'int'), ('_c3', 'int'), ('_c4', 'int'), ('_c5', 'int'), ('_c6', 'string'), ('_c7', 'string'), ('_c8', 'string')]\n",
      "size = 333110 Bytes\n",
      "\n",
      "_id  = http://ergast.com/downloads/f1db_csv.zip\n",
      "name  = constructor_standings.csv\n",
      "content  = [('_c0', 'int'), ('_c1', 'int'), ('_c2', 'int'), ('_c3', 'double'), ('_c4', 'int'), ('_c5', 'string'), ('_c6', 'int')]\n",
      "size = 282442 Bytes\n",
      "\n",
      "_id  = http://ergast.com/downloads/f1db_csv.zip\n",
      "name  = circuits.csv\n",
      "content  = [('_c0', 'int'), ('_c1', 'string'), ('_c2', 'string'), ('_c3', 'string'), ('_c4', 'string'), ('_c5', 'double'), ('_c6', 'double'), ('_c7', 'string'), ('_c8', 'string')]\n",
      "size = 9406 Bytes\n",
      "\n",
      "_id  = http://ergast.com/downloads/f1db_csv.zip\n",
      "name  = results.csv\n",
      "content  = [('_c0', 'int'), ('_c1', 'int'), ('_c2', 'int'), ('_c3', 'int'), ('_c4', 'string'), ('_c5', 'int'), ('_c6', 'string'), ('_c7', 'string'), ('_c8', 'int'), ('_c9', 'double'), ('_c10', 'int'), ('_c11', 'string'), ('_c12', 'string'), ('_c13', 'string'), ('_c14', 'string'), ('_c15', 'string'), ('_c16', 'string'), ('_c17', 'int')]\n",
      "size = 1507588 Bytes\n",
      "\n"
     ]
    }
   ],
   "source": [
    "# Get list of items <br />\n",
    "# Get Items' content, name and size <br />\n",
    "# Create a list of item objects\n",
    "\n",
    "import os \n",
    "from pyspark import SparkContext\n",
    "\n",
    "## ITEM objects ###\n",
    "itemList = []\n",
    "index = 0\n",
    "\n",
    "# Ask to introduce schema info if known, else infere schema\n",
    "\n",
    "for f in listFilePath:  \n",
    "    fullPath = tempPath + dataFolder + f\n",
    "    df = sqlContext.read.format('com.databricks.spark.csv').options(header='false', inferschema='true').load(fullPath) # note: custom schema should be defined in deduction phase (later)\n",
    "    content = df.dtypes # list N-tuple <attribute, data type>\n",
    "    size = os.path.getsize(fullPath) # get file size in Bytes\n",
    "    ## Instance\n",
    "    itemList.append(Item(url, f, content, size)) # _id, name, content, size\n",
    "    itemList[index].printInfo()\n",
    "    print() # Add a blank space between instances\n",
    "    index+=1"
   ]
  },
  {
   "cell_type": "markdown",
   "metadata": {},
   "source": [
    "### Create release objects and append them in a list "
   ]
  },
  {
   "cell_type": "code",
   "execution_count": 98,
   "metadata": {},
   "outputs": [
    {
     "name": "stdout",
     "output_type": "stream",
     "text": [
      "_id  = http://ergast.com/downloads/f1db_csv.zip\n",
      "releaseNum  = 1\n",
      "publicationDate  = Sun, 02 Sep 2018 18:08:37 GMT\n",
      "List of items = [<__main__.Item object at 0x7f6b4eb39470>, <__main__.Item object at 0x7f6b4eb399e8>, <__main__.Item object at 0x7f6b4d491978>, <__main__.Item object at 0x7f6b4d491ef0>, <__main__.Item object at 0x7f6b4d48d6d8>, <__main__.Item object at 0x7f6b4d48dcc0>, <__main__.Item object at 0x7f6b4d49b400>, <__main__.Item object at 0x7f6b4d49b940>, <__main__.Item object at 0x7f6b4d49bb38>, <__main__.Item object at 0x7f6b4d4a1588>, <__main__.Item object at 0x7f6b4d4a1c50>, <__main__.Item object at 0x7f6b4d49bdd8>, <__main__.Item object at 0x7f6b4d48dfd0>]\n",
      "size = 16605039 Bytes\n"
     ]
    }
   ],
   "source": [
    "#------------------ RELEASE ------------------------------------------------------------------------------------------\n",
    "# We assume that publication date is the same as the one which the origin server believes the resource was last modified\n",
    "conn = urllib.request.urlopen(\"http://ergast.com/downloads/f1db_csv.zip\", timeout=30)\n",
    "last_modified = conn.headers['last-modified']\n",
    "publicationDate = last_modified\n",
    "\n",
    "# Get release size <br />\n",
    "releaseSize = 0\n",
    "for i in itemList:\n",
    "    releaseSize = i.size + releaseSize\n",
    "\n",
    "# Create a list of release objects    \n",
    "releaseList = []\n",
    "                           #_id, releaseNum, publicationDate, itemList, size\n",
    "releaseList.append(Release(url, 1, publicationDate, itemList, releaseSize)) \n",
    "releaseList[0].printInfo()\n",
    "#--------------------------------------------------------------------------------------------------------------------"
   ]
  },
  {
   "cell_type": "markdown",
   "metadata": {},
   "source": [
    "### Create data collection object\n",
    "Using release size since both release and collection have the same data <br />\n",
    "Adding parameter manually, consider extracting them programmatically"
   ]
  },
  {
   "cell_type": "code",
   "execution_count": 99,
   "metadata": {},
   "outputs": [
    {
     "name": "stdout",
     "output_type": "stream",
     "text": [
      "_id  = http://ergast.com/downloads/f1db_csv.zip\n",
      "name  = f1db_csv/\n",
      "provider  = Ergast Developer API\n",
      "licence  = Creative Commons\n",
      "size = 16605039 Bytes\n",
      "author  = ergast\n",
      "description  = Add API decription\n",
      "list of releases = [<__main__.Release object at 0x7f6b4eb357b8>]\n"
     ]
    }
   ],
   "source": [
    "#----------- COLLECTION ---------------------------------------------------------------------------------------------\n",
    "# Ask for database name, provider, licence, author and description\n",
    "# _id = url maybe change for a hdfs url\n",
    "                                #_id, name, provider, licence, size, author, description, releaseList\n",
    "dataCollection = DataCollection(url, dataFolder, dbprovider_tb.value, dblicense_tb.value, releaseSize, dbauthor_tb.value, dbdesc_tb.value, releaseList) \n",
    "dataCollection.printInfo()\n",
    "#--------------------------------------------------------------------------------------------------------------------"
   ]
  },
  {
   "cell_type": "markdown",
   "metadata": {},
   "source": [
    "### Serialize data collection objet to JSON"
   ]
  },
  {
   "cell_type": "code",
   "execution_count": 100,
   "metadata": {},
   "outputs": [
    {
     "name": "stdout",
     "output_type": "stream",
     "text": [
      "{'_id': 'http://ergast.com/downloads/f1db_csv.zip', 'name': 'f1db_csv/', 'provider': 'Ergast Developer API', 'licence': 'Creative Commons', 'size': 16605039, 'author': 'ergast', 'description': 'Add API decription', 'releaseList': [{'_id': 'http://ergast.com/downloads/f1db_csv.zip', 'releaseNum': 1, 'publicationDate': 'Sun, 02 Sep 2018 18:08:37 GMT', 'itemList': [{'_id': 'http://ergast.com/downloads/f1db_csv.zip', 'name': 'pit_stops.csv', 'content': [['_c0', 'int'], ['_c1', 'int'], ['_c2', 'int'], ['_c3', 'int'], ['_c4', 'string'], ['_c5', 'string'], ['_c6', 'int']], 'size': 254006}, {'_id': 'http://ergast.com/downloads/f1db_csv.zip', 'name': 'races.csv', 'content': [['_c0', 'int'], ['_c1', 'int'], ['_c2', 'int'], ['_c3', 'int'], ['_c4', 'string'], ['_c5', 'timestamp'], ['_c6', 'string'], ['_c7', 'string']], 'size': 109577}, {'_id': 'http://ergast.com/downloads/f1db_csv.zip', 'name': 'lap_times.csv', 'content': [['_c0', 'int'], ['_c1', 'int'], ['_c2', 'int'], ['_c3', 'int'], ['_c4', 'string'], ['_c5', 'int']], 'size': 12993131}, {'_id': 'http://ergast.com/downloads/f1db_csv.zip', 'name': 'constructors.csv', 'content': [['_c0', 'int'], ['_c1', 'string'], ['_c2', 'string'], ['_c3', 'string'], ['_c4', 'string']], 'size': 17021}, {'_id': 'http://ergast.com/downloads/f1db_csv.zip', 'name': 'constructor_results.csv', 'content': [['_c0', 'int'], ['_c1', 'int'], ['_c2', 'int'], ['_c3', 'double'], ['_c4', 'string']], 'size': 193273}, {'_id': 'http://ergast.com/downloads/f1db_csv.zip', 'name': 'status.csv', 'content': [['_c0', 'int'], ['_c1', 'string']], 'size': 2043}, {'_id': 'http://ergast.com/downloads/f1db_csv.zip', 'name': 'driver.csv', 'content': [['_c0', 'int'], ['_c1', 'string'], ['_c2', 'string'], ['_c3', 'string'], ['_c4', 'string'], ['_c5', 'string'], ['_c6', 'string'], ['_c7', 'string'], ['_c8', 'string']], 'size': 92286}, {'_id': 'http://ergast.com/downloads/f1db_csv.zip', 'name': 'seasons.csv', 'content': [['_c0', 'int'], ['_c1', 'string']], 'size': 4158}, {'_id': 'http://ergast.com/downloads/f1db_csv.zip', 'name': 'driver_standings.csv', 'content': [['_c0', 'int'], ['_c1', 'int'], ['_c2', 'int'], ['_c3', 'double'], ['_c4', 'int'], ['_c5', 'string'], ['_c6', 'int']], 'size': 806998}, {'_id': 'http://ergast.com/downloads/f1db_csv.zip', 'name': 'qualifying.csv', 'content': [['_c0', 'int'], ['_c1', 'int'], ['_c2', 'int'], ['_c3', 'int'], ['_c4', 'int'], ['_c5', 'int'], ['_c6', 'string'], ['_c7', 'string'], ['_c8', 'string']], 'size': 333110}, {'_id': 'http://ergast.com/downloads/f1db_csv.zip', 'name': 'constructor_standings.csv', 'content': [['_c0', 'int'], ['_c1', 'int'], ['_c2', 'int'], ['_c3', 'double'], ['_c4', 'int'], ['_c5', 'string'], ['_c6', 'int']], 'size': 282442}, {'_id': 'http://ergast.com/downloads/f1db_csv.zip', 'name': 'circuits.csv', 'content': [['_c0', 'int'], ['_c1', 'string'], ['_c2', 'string'], ['_c3', 'string'], ['_c4', 'string'], ['_c5', 'double'], ['_c6', 'double'], ['_c7', 'string'], ['_c8', 'string']], 'size': 9406}, {'_id': 'http://ergast.com/downloads/f1db_csv.zip', 'name': 'results.csv', 'content': [['_c0', 'int'], ['_c1', 'int'], ['_c2', 'int'], ['_c3', 'int'], ['_c4', 'string'], ['_c5', 'int'], ['_c6', 'string'], ['_c7', 'string'], ['_c8', 'int'], ['_c9', 'double'], ['_c10', 'int'], ['_c11', 'string'], ['_c12', 'string'], ['_c13', 'string'], ['_c14', 'string'], ['_c15', 'string'], ['_c16', 'string'], ['_c17', 'int']], 'size': 1507588}], 'size': 16605039}]}\n",
      "<class 'dict'>\n"
     ]
    }
   ],
   "source": [
    "import json\n",
    "\n",
    "dataCollectionJson = json.dumps(dataCollection, default=lambda x: x.__dict__, indent=3)\n",
    "dataCollectionJson = json.loads(dataCollectionJson)\n",
    "print (dataCollectionJson)\n",
    "print (type(dataCollectionJson))"
   ]
  },
  {
   "cell_type": "markdown",
   "metadata": {},
   "source": [
    "### Store meta-data file in a MongoDB Atlas Cluster"
   ]
  },
  {
   "cell_type": "code",
   "execution_count": 102,
   "metadata": {},
   "outputs": [
    {
     "name": "stdout",
     "output_type": "stream",
     "text": [
      "{'_id': 'http://ergast.com/downloads/f1db_csv.zip',\n",
      " 'author': 'ergast',\n",
      " 'description': 'Add API decription',\n",
      " 'licence': 'Creative Commons',\n",
      " 'name': 'f1db_csv/',\n",
      " 'provider': 'Ergast Developer API',\n",
      " 'releaseList': [{'_id': 'http://ergast.com/downloads/f1db_csv.zip',\n",
      "                  'itemList': [{'_id': 'http://ergast.com/downloads/f1db_csv.zip',\n",
      "                                'content': [['_c0', 'int'],\n",
      "                                            ['_c1', 'int'],\n",
      "                                            ['_c2', 'int'],\n",
      "                                            ['_c3', 'int'],\n",
      "                                            ['_c4', 'string'],\n",
      "                                            ['_c5', 'string'],\n",
      "                                            ['_c6', 'int']],\n",
      "                                'name': 'pit_stops.csv',\n",
      "                                'size': 254006},\n",
      "                               {'_id': 'http://ergast.com/downloads/f1db_csv.zip',\n",
      "                                'content': [['_c0', 'int'],\n",
      "                                            ['_c1', 'int'],\n",
      "                                            ['_c2', 'int'],\n",
      "                                            ['_c3', 'int'],\n",
      "                                            ['_c4', 'string'],\n",
      "                                            ['_c5', 'timestamp'],\n",
      "                                            ['_c6', 'string'],\n",
      "                                            ['_c7', 'string']],\n",
      "                                'name': 'races.csv',\n",
      "                                'size': 109577},\n",
      "                               {'_id': 'http://ergast.com/downloads/f1db_csv.zip',\n",
      "                                'content': [['_c0', 'int'],\n",
      "                                            ['_c1', 'int'],\n",
      "                                            ['_c2', 'int'],\n",
      "                                            ['_c3', 'int'],\n",
      "                                            ['_c4', 'string'],\n",
      "                                            ['_c5', 'int']],\n",
      "                                'name': 'lap_times.csv',\n",
      "                                'size': 12993131},\n",
      "                               {'_id': 'http://ergast.com/downloads/f1db_csv.zip',\n",
      "                                'content': [['_c0', 'int'],\n",
      "                                            ['_c1', 'string'],\n",
      "                                            ['_c2', 'string'],\n",
      "                                            ['_c3', 'string'],\n",
      "                                            ['_c4', 'string']],\n",
      "                                'name': 'constructors.csv',\n",
      "                                'size': 17021},\n",
      "                               {'_id': 'http://ergast.com/downloads/f1db_csv.zip',\n",
      "                                'content': [['_c0', 'int'],\n",
      "                                            ['_c1', 'int'],\n",
      "                                            ['_c2', 'int'],\n",
      "                                            ['_c3', 'double'],\n",
      "                                            ['_c4', 'string']],\n",
      "                                'name': 'constructor_results.csv',\n",
      "                                'size': 193273},\n",
      "                               {'_id': 'http://ergast.com/downloads/f1db_csv.zip',\n",
      "                                'content': [['_c0', 'int'], ['_c1', 'string']],\n",
      "                                'name': 'status.csv',\n",
      "                                'size': 2043},\n",
      "                               {'_id': 'http://ergast.com/downloads/f1db_csv.zip',\n",
      "                                'content': [['_c0', 'int'],\n",
      "                                            ['_c1', 'string'],\n",
      "                                            ['_c2', 'string'],\n",
      "                                            ['_c3', 'string'],\n",
      "                                            ['_c4', 'string'],\n",
      "                                            ['_c5', 'string'],\n",
      "                                            ['_c6', 'string'],\n",
      "                                            ['_c7', 'string'],\n",
      "                                            ['_c8', 'string']],\n",
      "                                'name': 'driver.csv',\n",
      "                                'size': 92286},\n",
      "                               {'_id': 'http://ergast.com/downloads/f1db_csv.zip',\n",
      "                                'content': [['_c0', 'int'], ['_c1', 'string']],\n",
      "                                'name': 'seasons.csv',\n",
      "                                'size': 4158},\n",
      "                               {'_id': 'http://ergast.com/downloads/f1db_csv.zip',\n",
      "                                'content': [['_c0', 'int'],\n",
      "                                            ['_c1', 'int'],\n",
      "                                            ['_c2', 'int'],\n",
      "                                            ['_c3', 'double'],\n",
      "                                            ['_c4', 'int'],\n",
      "                                            ['_c5', 'string'],\n",
      "                                            ['_c6', 'int']],\n",
      "                                'name': 'driver_standings.csv',\n",
      "                                'size': 806998},\n",
      "                               {'_id': 'http://ergast.com/downloads/f1db_csv.zip',\n",
      "                                'content': [['_c0', 'int'],\n",
      "                                            ['_c1', 'int'],\n",
      "                                            ['_c2', 'int'],\n",
      "                                            ['_c3', 'int'],\n",
      "                                            ['_c4', 'int'],\n",
      "                                            ['_c5', 'int'],\n",
      "                                            ['_c6', 'string'],\n",
      "                                            ['_c7', 'string'],\n",
      "                                            ['_c8', 'string']],\n",
      "                                'name': 'qualifying.csv',\n",
      "                                'size': 333110},\n",
      "                               {'_id': 'http://ergast.com/downloads/f1db_csv.zip',\n",
      "                                'content': [['_c0', 'int'],\n",
      "                                            ['_c1', 'int'],\n",
      "                                            ['_c2', 'int'],\n",
      "                                            ['_c3', 'double'],\n",
      "                                            ['_c4', 'int'],\n",
      "                                            ['_c5', 'string'],\n",
      "                                            ['_c6', 'int']],\n",
      "                                'name': 'constructor_standings.csv',\n",
      "                                'size': 282442},\n",
      "                               {'_id': 'http://ergast.com/downloads/f1db_csv.zip',\n",
      "                                'content': [['_c0', 'int'],\n",
      "                                            ['_c1', 'string'],\n",
      "                                            ['_c2', 'string'],\n",
      "                                            ['_c3', 'string'],\n",
      "                                            ['_c4', 'string'],\n",
      "                                            ['_c5', 'double'],\n",
      "                                            ['_c6', 'double'],\n",
      "                                            ['_c7', 'string'],\n",
      "                                            ['_c8', 'string']],\n",
      "                                'name': 'circuits.csv',\n",
      "                                'size': 9406},\n",
      "                               {'_id': 'http://ergast.com/downloads/f1db_csv.zip',\n",
      "                                'content': [['_c0', 'int'],\n",
      "                                            ['_c1', 'int'],\n",
      "                                            ['_c2', 'int'],\n",
      "                                            ['_c3', 'int'],\n",
      "                                            ['_c4', 'string'],\n",
      "                                            ['_c5', 'int'],\n",
      "                                            ['_c6', 'string'],\n",
      "                                            ['_c7', 'string'],\n",
      "                                            ['_c8', 'int'],\n",
      "                                            ['_c9', 'double'],\n",
      "                                            ['_c10', 'int'],\n",
      "                                            ['_c11', 'string'],\n",
      "                                            ['_c12', 'string'],\n",
      "                                            ['_c13', 'string'],\n",
      "                                            ['_c14', 'string'],\n",
      "                                            ['_c15', 'string'],\n",
      "                                            ['_c16', 'string'],\n",
      "                                            ['_c17', 'int']],\n",
      "                                'name': 'results.csv',\n",
      "                                'size': 1507588}],\n",
      "                  'publicationDate': 'Sun, 02 Sep 2018 18:08:37 GMT',\n",
      "                  'releaseNum': 1,\n",
      "                  'size': 16605039}],\n",
      " 'size': 16605039}\n"
     ]
    }
   ],
   "source": [
    "import json\n",
    "from pymongo import MongoClient\n",
    "\n",
    "# Creates a client for the primary sandbox from cluster host cluster0-nlbcx.mongodb.net\n",
    "client = MongoClient('cluster0-shard-00-00-nlbcx.mongodb.net',\n",
    "                      username='adminUser',\n",
    "                      password='xpass',\n",
    "                      authSource='admin',\n",
    "                      ssl=True)\n",
    "db = client.test \n",
    "db = client.test_database\n",
    "db = client['dataModel-db']\n",
    "collection = db.test_collection\n",
    "collection = db['dataModel-metadata']\n",
    "\n",
    "pid = collection.insert_one(dataCollectionJson).inserted_id  # this id can replace the url in datacollectionmodel class\n",
    "\n",
    "import pprint\n",
    "pprint.pprint(collection.find_one())\n",
    "\n",
    "client.close()"
   ]
  }
 ],
 "metadata": {
  "kernelspec": {
   "display_name": "Python 3",
   "language": "python",
   "name": "python3"
  },
  "language_info": {
   "codemirror_mode": {
    "name": "ipython",
    "version": 3
   },
   "file_extension": ".py",
   "mimetype": "text/x-python",
   "name": "python",
   "nbconvert_exporter": "python",
   "pygments_lexer": "ipython3",
   "version": "3.6.5"
  }
 },
 "nbformat": 4,
 "nbformat_minor": 2
}
