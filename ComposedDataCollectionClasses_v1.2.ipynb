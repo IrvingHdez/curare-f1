{
 "cells": [
  {
   "cell_type": "markdown",
   "metadata": {},
   "source": [
    "# DEMO: Human Development Index (HDI)"
   ]
  },
  {
   "cell_type": "markdown",
   "metadata": {},
   "source": [
    "## CURARE data collection model"
   ]
  },
  {
   "cell_type": "markdown",
   "metadata": {},
   "source": [
    "#### Type your dataset's URL or leave default value"
   ]
  },
  {
   "cell_type": "code",
   "execution_count": 1,
   "metadata": {},
   "outputs": [],
   "source": [
    "import ipywidgets as widgets"
   ]
  },
  {
   "cell_type": "code",
   "execution_count": 69,
   "metadata": {},
   "outputs": [
    {
     "data": {
      "application/vnd.jupyter.widget-view+json": {
       "model_id": "0f3f00eff49e4b599d6763454f6f955f",
       "version_major": 2,
       "version_minor": 0
      },
      "text/plain": [
       "Text(value='http://hdr.undp.org/en/indicators/137506#', description='Dataset url:')"
      ]
     },
     "metadata": {},
     "output_type": "display_data"
    }
   ],
   "source": [
    "#url_tb = widgets.Text(value='http://ergast.com/downloads/f1db_csv.zip', description='Dataset url:', disabled=False); url_tb\n",
    "url_tb = widgets.Text(value='http://hdr.undp.org/en/indicators/137506#', description='Dataset url:', disabled=False); url_tb"
   ]
  },
  {
   "cell_type": "markdown",
   "metadata": {},
   "source": [
    "#### Type additional information about your dataset or leve default values"
   ]
  },
  {
   "cell_type": "code",
   "execution_count": 2,
   "metadata": {},
   "outputs": [
    {
     "data": {
      "application/vnd.jupyter.widget-view+json": {
       "model_id": "388163efc6de4c7d9e30cbc8c55c2c14",
       "version_major": 2,
       "version_minor": 0
      },
      "text/plain": [
       "Text(value='United Nations Development Programme', description='provider:')"
      ]
     },
     "metadata": {},
     "output_type": "display_data"
    }
   ],
   "source": [
    "dbprovider_tb = widgets.Text(value='United Nations Development Programme', description='provider:', disabled=False); dbprovider_tb"
   ]
  },
  {
   "cell_type": "code",
   "execution_count": 3,
   "metadata": {},
   "outputs": [
    {
     "data": {
      "application/vnd.jupyter.widget-view+json": {
       "model_id": "2dff7b53d8434ce6ab898d6fe8740531",
       "version_major": 2,
       "version_minor": 0
      },
      "text/plain": [
       "Text(value='Creative Commons', description='license:')"
      ]
     },
     "metadata": {},
     "output_type": "display_data"
    }
   ],
   "source": [
    "dblicense_tb = widgets.Text(value='Creative Commons', description='license:', disabled=False); dblicense_tb"
   ]
  },
  {
   "cell_type": "code",
   "execution_count": 4,
   "metadata": {},
   "outputs": [
    {
     "data": {
      "application/vnd.jupyter.widget-view+json": {
       "model_id": "daf2601714f44ec2ad26b508da32ab26",
       "version_major": 2,
       "version_minor": 0
      },
      "text/plain": [
       "Text(value='ergast', description='author:')"
      ]
     },
     "metadata": {},
     "output_type": "display_data"
    }
   ],
   "source": [
    "dbauthor_tb = widgets.Text(value='ergast', description='author:', disabled=False); dbauthor_tb"
   ]
  },
  {
   "cell_type": "code",
   "execution_count": 5,
   "metadata": {},
   "outputs": [
    {
     "data": {
      "application/vnd.jupyter.widget-view+json": {
       "model_id": "2c7d6cc1d6e8411189f4ca02c8105a49",
       "version_major": 2,
       "version_minor": 0
      },
      "text/plain": [
       "Text(value='Data for the Formula One series, from the beginning of the world championships in 1950.', descript…"
      ]
     },
     "metadata": {},
     "output_type": "display_data"
    }
   ],
   "source": [
    "dbdesc_tb = widgets.Text(value='Data for the Formula One series, from the beginning of the world championships in 1950.', \n",
    "                            description='description:', disabled=False); dbdesc_tb"
   ]
  },
  {
   "cell_type": "markdown",
   "metadata": {},
   "source": [
    "## Data Collection Class"
   ]
  },
  {
   "cell_type": "code",
   "execution_count": 81,
   "metadata": {},
   "outputs": [
    {
     "name": "stdout",
     "output_type": "stream",
     "text": [
      "Success class created!\n"
     ]
    }
   ],
   "source": [
    "class DataCollection:\n",
    "    _id = \"\"\n",
    "    name = \"\"\n",
    "    provider = \"\"\n",
    "    licence = \"\"\n",
    "    size = 0\n",
    "    author = \"\"\n",
    "    description = \"\"        \n",
    "    \n",
    "    releaseList = []\n",
    " \n",
    "    def __init__(self, _id, name, provider, licence, size, author, description, releaseList):\n",
    "        self._id = _id\n",
    "        self.name = name\n",
    "        self.provider = provider\n",
    "        self.licence = licence\n",
    "        self.size = size\n",
    "        self.author = author\n",
    "        self.description = \"Add API decription\"\n",
    "        \n",
    "        self.releaseList = releaseList\n",
    " \n",
    "    def printInfo(self):\n",
    "        print (\"_id  = \" + str(self._id))\n",
    "        print (\"name  = \" + str(self.name))\n",
    "        print (\"provider  = \" + str(self.provider))\n",
    "        print (\"licence  = \" + str(self.licence))\n",
    "        print (\"size = \" + str(self.size) + \" Bytes\")\n",
    "        print (\"author  = \" + str(self.author))\n",
    "        print (\"description  = \" + str(self.description))\n",
    "        print (\"list of releases = \" + str(self.releaseList))      \n",
    "        \n",
    "print (\"Success class created!\")"
   ]
  },
  {
   "cell_type": "markdown",
   "metadata": {},
   "source": [
    "## Release Class"
   ]
  },
  {
   "cell_type": "code",
   "execution_count": 80,
   "metadata": {},
   "outputs": [
    {
     "name": "stdout",
     "output_type": "stream",
     "text": [
      "Success class created!\n"
     ]
    }
   ],
   "source": [
    "# Get conditions in which data is produced\n",
    "class Release:\n",
    "    _id = \"\"\n",
    "    releaseNum = 0\n",
    "    publicationDate = \"\"    \n",
    "    \n",
    "    itemList = []\n",
    "    size = 0   # added by me\n",
    "    \n",
    "    def __init__(self, _id, releaseNum, publicationDate, itemList, size):\n",
    "        self._id = _id\n",
    "        self.releaseNum = releaseNum\n",
    "        self.publicationDate = publicationDate        \n",
    "        self.itemList = itemList\n",
    "        self.size = size\n",
    "        \n",
    "    def incRelease(self):\n",
    "        self.releaseNum = self.releaseNum + 1    \n",
    "        \n",
    "    def printInfo(self):\n",
    "        print (\"_id  = \" + str(self._id))\n",
    "        print (\"releaseNum  = \" + str(self.releaseNum))\n",
    "        print (\"publicationDate  = \" + str(self.publicationDate))                \n",
    "        print (\"List of items = \" + str(self.itemList))\n",
    "        print (\"size = \" + str(self.size) + \" Bytes\")\n",
    "\n",
    "print (\"Success class created!\")"
   ]
  },
  {
   "cell_type": "markdown",
   "metadata": {},
   "source": [
    "## Item Class"
   ]
  },
  {
   "cell_type": "code",
   "execution_count": 79,
   "metadata": {},
   "outputs": [
    {
     "name": "stdout",
     "output_type": "stream",
     "text": [
      "Success class created!\n"
     ]
    }
   ],
   "source": [
    "class Item:\n",
    "    _id = \"\"\n",
    "    name = \"\"\n",
    "    content = []\n",
    "    \n",
    "    size = 0   # added by me\n",
    " \n",
    "    def __init__(self, _id, name, content, size):\n",
    "        self._id = _id\n",
    "        self.name = name\n",
    "        self.content = content\n",
    "        self.size = size\n",
    "        \n",
    "    def printInfo(self):\n",
    "        print (\"_id  = \" + str(self._id))\n",
    "        print (\"name  = \" + str(self.name))\n",
    "        print (\"content  = \" + str(self.content))\n",
    "        print (\"size = \" + str(self.size) + \" Bytes\")\n",
    "\n",
    "print (\"Success class created!\")"
   ]
  },
  {
   "cell_type": "markdown",
   "metadata": {},
   "source": [
    "## Harvest Data from HTTP and Unarchived it <br/> or look in local folder"
   ]
  },
  {
   "cell_type": "code",
   "execution_count": 58,
   "metadata": {},
   "outputs": [],
   "source": [
    "import urllib.request\n",
    "import shutil\n",
    "from os import listdir\n",
    "import zipfile\n",
    "\n",
    "#url = \"http://ergast.com/downloads/f1db_csv.zip\"\n",
    "#url = url_tb.value\n",
    "#dataFolder = \"f1db_csv/\"\n",
    "\n",
    "def dwnldUrl (_url, folder_name, file_name):            \n",
    "    \n",
    "    file_name = '/tmp/' + file_name # file will be downloaded in this location\n",
    "    # Download the file from 'url' and save it locally under 'file_name':\n",
    "    with urllib.request.urlopen(_url) as response, open(file_name, 'wb') as out_file:\n",
    "        shutil.copyfileobj(response, out_file)            \n",
    "    \n",
    "    # Unarchive data\n",
    "    zip_ref = zipfile.ZipFile(file_name, 'r')\n",
    "    zip_ref.extractall('/tmp/' + folder_name) # creates folder f1db_csv if it doesn't exist\n",
    "    zip_ref.close()\n",
    "\n",
    "    listFilePath = []\n",
    "    \n",
    "    for f in os.listdir('/tmp/' + folder_name):     \n",
    "        listFilePath.append('/tmp/' + folder_name + f)\n",
    "    \n",
    "    return listFilePath\n",
    "\n",
    "def getLocalFiles(_path):    \n",
    "    for f in os.listdir(_path):     \n",
    "        listFilePath.append(_path + f)\n",
    "    \n",
    "    return listFilePath"
   ]
  },
  {
   "cell_type": "code",
   "execution_count": 41,
   "metadata": {},
   "outputs": [
    {
     "data": {
      "application/vnd.jupyter.widget-view+json": {
       "model_id": "f8571590fb1c4f68a300e3fa9afa49ad",
       "version_major": 2,
       "version_minor": 0
      },
      "text/plain": [
       "Select(description='Source:', index=1, options=('Download from URL', 'Local Files'), rows=3, value='Local File…"
      ]
     },
     "metadata": {},
     "output_type": "display_data"
    }
   ],
   "source": [
    "selSource = widgets.Select(\n",
    "    options=['Download from URL', 'Local Files'],\n",
    "    value='Local Files',\n",
    "    rows=3,\n",
    "    description='Source:',\n",
    "    disabled=False\n",
    ")\n",
    "selSource"
   ]
  },
  {
   "cell_type": "code",
   "execution_count": 74,
   "metadata": {},
   "outputs": [
    {
     "name": "stdout",
     "output_type": "stream",
     "text": [
      "/test/HDI/index/Human development index (HDI).csv\n"
     ]
    }
   ],
   "source": [
    "listFilePath = []\n",
    "if selSource.value == 'Local Files':\n",
    "    listFilePath = getLocalFiles(\"/test/HDI/index/\")\n",
    "    for f in listFilePath:     \n",
    "        print (f)    \n",
    "    \n",
    "elif selSource.value == 'Download from URL':\n",
    "    listFilePath = dwnldUrl(\"http://ergast.com/downloads/f1db_csv.zip\", \"f1/\", \"f1db_csv.zip\")\n",
    "    for f in listFilePath:     \n",
    "        print (f)\n",
    "\n",
    "else:\n",
    "    print ('any')"
   ]
  },
  {
   "cell_type": "markdown",
   "metadata": {},
   "source": [
    "### Create item objects and append them to a list"
   ]
  },
  {
   "cell_type": "code",
   "execution_count": 77,
   "metadata": {},
   "outputs": [
    {
     "name": "stdout",
     "output_type": "stream",
     "text": [
      "_id  = http://hdr.undp.org/en/indicators/137506#\n",
      "name  = /test/HDI/index/Human development index (HDI).csv\n",
      "content  = [('HDI Rank (2017)', 'int'), ('Country', 'string'), ('1990', 'double'), ('1991', 'double'), ('1992', 'double'), ('1993', 'double'), ('1994', 'double'), ('1995', 'double'), ('1996', 'double'), ('1997', 'double'), ('1998', 'double'), ('1999', 'double'), ('2000', 'double'), ('2001', 'double'), ('2002', 'double'), ('2003', 'double'), ('2004', 'double'), ('2005', 'double'), ('2006', 'double'), ('2007', 'double'), ('2008', 'double'), ('2009', 'double'), ('2010', 'double'), ('2011', 'double'), ('2012', 'double'), ('2013', 'double'), ('2014', 'double'), ('2015', 'double'), ('2016', 'double'), ('2017', 'double')]\n",
      "size = 43731 Bytes\n",
      "\n"
     ]
    }
   ],
   "source": [
    "import os \n",
    "from pyspark import SparkContext\n",
    "\n",
    "## ITEM objects ###\n",
    "itemList = []\n",
    "index = 0\n",
    "\n",
    "# Ask to introduce schema info if known, else infere schema\n",
    "\n",
    "for f in listFilePath:  \n",
    "    df = sqlContext.read.format('com.databricks.spark.csv').options(header='true', inferschema='true').load(f) # note: custom schema should be defined in deduction phase (later)\n",
    "    content = df.dtypes # list N-tuple <attribute, data type>\n",
    "    size = os.path.getsize(f) # get file size in Bytes\n",
    "    ## Instance\n",
    "    itemList.append(Item(url_tb.value, f, content, size)) # _id, name, content, size\n",
    "    itemList[index].printInfo()\n",
    "    print() # Add a blank space between instances\n",
    "    index+=1"
   ]
  },
  {
   "cell_type": "markdown",
   "metadata": {},
   "source": [
    "### Create release objects and append them in a list "
   ]
  },
  {
   "cell_type": "code",
   "execution_count": 85,
   "metadata": {},
   "outputs": [
    {
     "name": "stdout",
     "output_type": "stream",
     "text": [
      "_id  = http://hdr.undp.org/en/indicators/137506#\n",
      "releaseNum  = 1\n",
      "publicationDate  = None\n",
      "List of items = [<__main__.Item object at 0x7f20cce7c940>]\n",
      "size = 43731 Bytes\n"
     ]
    }
   ],
   "source": [
    "#------------------ RELEASE ------------------------------------------------------------------------------------------\n",
    "# We assume that publication date is the same as the one which the origin server believes the resource was last modified\n",
    "#conn = urllib.request.urlopen(\"http://ergast.com/downloads/f1db_csv.zip\", timeout=30)\n",
    "#conn = urllib.request.urlopen(url_tb.value, timeout=30)\n",
    "last_modified = conn.headers['last-modified']\n",
    "publicationDate = last_modified\n",
    "\n",
    "# Get release size <br />\n",
    "releaseSize = 0\n",
    "for i in itemList:\n",
    "    releaseSize = i.size + releaseSize\n",
    "\n",
    "# Create a list of release objects    \n",
    "releaseList = []\n",
    "                           #_id, releaseNum, publicationDate, itemList, size\n",
    "releaseList.append(Release(url_tb.value, 1, None, itemList, releaseSize)) \n",
    "releaseList[0].printInfo()\n",
    "#--------------------------------------------------------------------------------------------------------------------"
   ]
  },
  {
   "cell_type": "markdown",
   "metadata": {},
   "source": [
    "### Create data collection object\n",
    "Using release size since both release and collection have the same data <br />\n",
    "Adding parameter manually, consider extracting them programmatically"
   ]
  },
  {
   "cell_type": "code",
   "execution_count": 87,
   "metadata": {},
   "outputs": [
    {
     "name": "stdout",
     "output_type": "stream",
     "text": [
      "_id  = http://hdr.undp.org/en/indicators/137506#\n",
      "name  = ONU\n",
      "provider  = United Nations Development Programme\n",
      "licence  = Creative Commons Attribution 3.0 IGO\n",
      "size = 43731 Bytes\n",
      "author  = Human Development\n",
      "description  = Add API decription\n",
      "list of releases = [<__main__.Release object at 0x7f20ccedf518>]\n"
     ]
    }
   ],
   "source": [
    "#----------- COLLECTION ---------------------------------------------------------------------------------------------\n",
    "# Ask for database name, provider, licence, author and description\n",
    "# _id = url maybe change for a hdfs url\n",
    "                                #_id, name, provider, licence, size, author, description, releaseList\n",
    "dataCollection = DataCollection(url_tb.value, \"ONU\", dbprovider_tb.value, dblicense_tb.value, releaseSize, dbauthor_tb.value, dbdesc_tb.value, releaseList) \n",
    "dataCollection.printInfo()\n",
    "#--------------------------------------------------------------------------------------------------------------------"
   ]
  },
  {
   "cell_type": "markdown",
   "metadata": {},
   "source": [
    "### Serialize data collection objet to JSON"
   ]
  },
  {
   "cell_type": "code",
   "execution_count": 88,
   "metadata": {},
   "outputs": [
    {
     "name": "stdout",
     "output_type": "stream",
     "text": [
      "{'_id': 'http://hdr.undp.org/en/indicators/137506#', 'name': 'ONU', 'provider': 'United Nations Development Programme', 'licence': 'Creative Commons Attribution 3.0 IGO', 'size': 43731, 'author': 'Human Development', 'description': 'Add API decription', 'releaseList': [{'_id': 'http://hdr.undp.org/en/indicators/137506#', 'releaseNum': 1, 'publicationDate': None, 'itemList': [{'_id': 'http://hdr.undp.org/en/indicators/137506#', 'name': '/test/HDI/index/Human development index (HDI).csv', 'content': [['HDI Rank (2017)', 'int'], ['Country', 'string'], ['1990', 'double'], ['1991', 'double'], ['1992', 'double'], ['1993', 'double'], ['1994', 'double'], ['1995', 'double'], ['1996', 'double'], ['1997', 'double'], ['1998', 'double'], ['1999', 'double'], ['2000', 'double'], ['2001', 'double'], ['2002', 'double'], ['2003', 'double'], ['2004', 'double'], ['2005', 'double'], ['2006', 'double'], ['2007', 'double'], ['2008', 'double'], ['2009', 'double'], ['2010', 'double'], ['2011', 'double'], ['2012', 'double'], ['2013', 'double'], ['2014', 'double'], ['2015', 'double'], ['2016', 'double'], ['2017', 'double']], 'size': 43731}], 'size': 43731}]}\n",
      "<class 'dict'>\n"
     ]
    }
   ],
   "source": [
    "import json\n",
    "\n",
    "dataCollectionJson = json.dumps(dataCollection, default=lambda x: x.__dict__, indent=3)\n",
    "dataCollectionJson = json.loads(dataCollectionJson)\n",
    "print (dataCollectionJson)\n",
    "print (type(dataCollectionJson))"
   ]
  },
  {
   "cell_type": "markdown",
   "metadata": {},
   "source": [
    "### Store meta-data file in a MongoDB Atlas Cluster"
   ]
  },
  {
   "cell_type": "code",
   "execution_count": 90,
   "metadata": {},
   "outputs": [
    {
     "name": "stdout",
     "output_type": "stream",
     "text": [
      "{'_id': 'http://hdr.undp.org/en/indicators/137506#',\n",
      " 'author': 'Human Development',\n",
      " 'description': 'Add API decription',\n",
      " 'licence': 'Creative Commons Attribution 3.0 IGO',\n",
      " 'name': 'ONU',\n",
      " 'provider': 'United Nations Development Programme',\n",
      " 'releaseList': [{'_id': 'http://hdr.undp.org/en/indicators/137506#',\n",
      "                  'itemList': [{'_id': 'http://hdr.undp.org/en/indicators/137506#',\n",
      "                                'content': [['HDI Rank (2017)', 'int'],\n",
      "                                            ['Country', 'string'],\n",
      "                                            ['1990', 'double'],\n",
      "                                            ['1991', 'double'],\n",
      "                                            ['1992', 'double'],\n",
      "                                            ['1993', 'double'],\n",
      "                                            ['1994', 'double'],\n",
      "                                            ['1995', 'double'],\n",
      "                                            ['1996', 'double'],\n",
      "                                            ['1997', 'double'],\n",
      "                                            ['1998', 'double'],\n",
      "                                            ['1999', 'double'],\n",
      "                                            ['2000', 'double'],\n",
      "                                            ['2001', 'double'],\n",
      "                                            ['2002', 'double'],\n",
      "                                            ['2003', 'double'],\n",
      "                                            ['2004', 'double'],\n",
      "                                            ['2005', 'double'],\n",
      "                                            ['2006', 'double'],\n",
      "                                            ['2007', 'double'],\n",
      "                                            ['2008', 'double'],\n",
      "                                            ['2009', 'double'],\n",
      "                                            ['2010', 'double'],\n",
      "                                            ['2011', 'double'],\n",
      "                                            ['2012', 'double'],\n",
      "                                            ['2013', 'double'],\n",
      "                                            ['2014', 'double'],\n",
      "                                            ['2015', 'double'],\n",
      "                                            ['2016', 'double'],\n",
      "                                            ['2017', 'double']],\n",
      "                                'name': '/test/HDI/index/Human development '\n",
      "                                        'index (HDI).csv',\n",
      "                                'size': 43731}],\n",
      "                  'publicationDate': None,\n",
      "                  'releaseNum': 1,\n",
      "                  'size': 43731}],\n",
      " 'size': 43731}\n"
     ]
    }
   ],
   "source": [
    "import json\n",
    "from pymongo import MongoClient\n",
    "\n",
    "# Creates a client for the primary sandbox from cluster host cluster0-nlbcx.mongodb.net\n",
    "client = MongoClient('cluster0-shard-00-00-nlbcx.mongodb.net:27017',\n",
    "                      username='adminUser',\n",
    "                      password='xpass',\n",
    "                      authSource='admin',                      \n",
    "                      replicaSet='Cluster0-shard-0',\n",
    "                      ssl=True,\n",
    "                      retryWrites=True)\n",
    "db = client.test \n",
    "db = client.test_database\n",
    "db = client['onu_hdi-db']\n",
    "collection = db.test_collection\n",
    "collection = db['dataModel-metadata']\n",
    "\n",
    "pid = collection.insert_one(dataCollectionJson).inserted_id  # this id can replace the url in datacollectionmodel class\n",
    "\n",
    "import pprint\n",
    "pprint.pprint(collection.find_one())\n",
    "\n",
    "client.close()"
   ]
  }
 ],
 "metadata": {
  "kernelspec": {
   "display_name": "Python 3",
   "language": "python",
   "name": "python3"
  },
  "language_info": {
   "codemirror_mode": {
    "name": "ipython",
    "version": 3
   },
   "file_extension": ".py",
   "mimetype": "text/x-python",
   "name": "python",
   "nbconvert_exporter": "python",
   "pygments_lexer": "ipython3",
   "version": "3.6.5"
  }
 },
 "nbformat": 4,
 "nbformat_minor": 2
}
